{
  "nbformat": 4,
  "nbformat_minor": 0,
  "metadata": {
    "colab": {
      "name": "T3C5Aula03exemplos_strings.ipynb",
      "provenance": [],
      "authorship_tag": "ABX9TyNTF8tooLeCdL7reomfgz+3",
      "include_colab_link": true
    },
    "kernelspec": {
      "name": "python3",
      "display_name": "Python 3"
    },
    "language_info": {
      "name": "python"
    }
  },
  "cells": [
    {
      "cell_type": "markdown",
      "metadata": {
        "id": "view-in-github",
        "colab_type": "text"
      },
      "source": [
        "<a href=\"https://colab.research.google.com/github/Daya140/ExerciciosBlue/blob/main/T3C5Aula03exemplos_strings.ipynb\" target=\"_parent\"><img src=\"https://colab.research.google.com/assets/colab-badge.svg\" alt=\"Open In Colab\"/></a>"
      ]
    },
    {
      "cell_type": "code",
      "metadata": {
        "id": "FXV5AlAQ0OTt"
      },
      "source": [
        "var1 = 250\n",
        "var1a = 100\n",
        "var2 = '250'\n",
        "var2a = '100'\n",
        "var3 = 'Batman \"que ri\" do quadrinho' # Exemplo de udo de aspas dentro de uma string\n",
        "var4 = 'de um universo paralelo '\n",
        "\n",
        "print(type(var1))\n",
        "print(type(var2))\n",
        "print()\n",
        "print(var2 + var2a)\n",
        "print(concatenação)"
      ],
      "execution_count": null,
      "outputs": []
    },
    {
      "cell_type": "code",
      "metadata": {
        "colab": {
          "base_uri": "https://localhost:8080/"
        },
        "id": "fp4GyVHwBCXb",
        "outputId": "772539c0-e8bf-4625-9ab4-944d8b940bca"
      },
      "source": [
        "#Manipulando string\n",
        "var0 = '250'\n",
        "var0a = '100'\n",
        "var1 = 'Batman \"que ri\" do quadrinho' # Exemplo de udo de aspas dentro de uma string\n",
        "var2 = 'de um universo paralelo '\n",
        "frase = input('Digite qualquer coisa: ')\n",
        "\n",
        "#print(len(var3))# len() -> retorna o tamanho da string (números de caracteres)\n",
        "#print(frase)\n",
        "\n",
        "#string.capitalize() -> Transforma o primeiro caractere de uma string em maiúscula, e o restante em minúscula\n",
        "#print(frase.capitalize())\n",
        "#print('isso é uma string'.capitalize())\n",
        "\n",
        "#fraseCapitalize = input('digite algo minúsculo:').capitalize()\n",
        "#print(fraseCapitalize)\n",
        "\n",
        "##count( -> conta quantas vezes um caractere (ou sequência de caracteres )aparece em uma string\n",
        "#print(var1.count('a'))\n",
        "#contadorLetra = var1.count('a')\n",
        "#print(contadorLetra)\n",
        "#print(type(contadorLetra))\n",
        "\n",
        "\n",
        "###string.startswith('teste') -> verifica se a string começa com o que foi passado como argumento e retorna com True ou False\n",
        "# print(var1.startswith('Bat'))\n",
        "\n",
        "\n",
        "##string.isalnum() -> verifica se a string possui algum valor alfanumérico (letra ou número)\n",
        "#print(var2.isalnum())\n",
        "#print(frase)\n",
        "\n",
        "#string.upper() e string.lower9\n",
        "#print(frase.upper())\n",
        "#print(frase.lower())\n",
        "\n",
        "#fraseUpper = frase.upper()\n",
        "#print(fraseUpper)\n",
        "\n",
        "#string.title() -> retorna a string com todos os caracteres depois de cada espaço em maiúscula e o resto em minúscula:\n",
        "#print(var1.title())\n",
        "#print(frase.title()) \n",
        "\n",
        "## string.split() -> transforma cada elemento da string(tomando os espaços como referência) em um elemento de uma lista\n",
        "#lista1 = var1.split()\n",
        "#print(lista1)\n",
        "#print(frase.split())\n",
        "\n",
        "\n",
        "### string.replace('S1', 'S2') -> substitui todos os caracteres passados em S1 pelos passados em S2\n",
        "#print(var1.replace('a', 'x'))\n",
        "#moeda = float(input('Digite o valor em Reais: ').replace(',' , '.'))# pegando valor entrado,substituindo , por . e já transformando em float para poder fazer cálculos\n",
        "\n",
        "#total = moeda + 10\n",
        "#print(moeda)\n",
        "#print(total)\n",
        "\n",
        "\n",
        "## string.strip() -> remove os espaços do começo e do final da string\n",
        "print(frase.strip())\n",
        "\n",
        "\n",
        "\n"
      ],
      "execution_count": 19,
      "outputs": [
        {
          "output_type": "stream",
          "text": [
            "Digite qualquer coisa:   oi meu     deus\n",
            "oi meu     deus\n"
          ],
          "name": "stdout"
        }
      ]
    }
  ]
}